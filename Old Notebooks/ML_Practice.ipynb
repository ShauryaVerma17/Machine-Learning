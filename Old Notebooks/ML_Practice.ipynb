{
  "nbformat": 4,
  "nbformat_minor": 0,
  "metadata": {
    "colab": {
      "provenance": [],
      "collapsed_sections": [
        "2FJHcqKONWqA",
        "6cBKRd4ecKPO",
        "qJNjZe8aSyvT",
        "aBKoEWaLmVH1",
        "CNgwr8KYRSZF"
      ],
      "gpuType": "T4"
    },
    "kernelspec": {
      "name": "python3",
      "display_name": "Python 3"
    },
    "language_info": {
      "name": "python"
    },
    "accelerator": "GPU"
  },
  "cells": [
    {
      "cell_type": "markdown",
      "source": [
        "#Libraries and function for preprocessing"
      ],
      "metadata": {
        "id": "2FJHcqKONWqA"
      }
    },
    {
      "cell_type": "code",
      "execution_count": null,
      "metadata": {
        "id": "C3m0f6t4NNOz"
      },
      "outputs": [],
      "source": [
        "import numpy as np\n",
        "import pandas as pd\n",
        "import matplotlib.pyplot as plt\n",
        "from sklearn.preprocessing import StandardScaler\n",
        "from imblearn.over_sampling import RandomOverSampler"
      ]
    },
    {
      "cell_type": "code",
      "source": [
        "def scale_dataset(dataframe, oversample = False ):  #default value\n",
        "  X = dataframe[dataframe.columns[:-1]].values\n",
        "  y = dataframe[dataframe.columns[-1]].values\n",
        "\n",
        "  scaler = StandardScaler()\n",
        "  X = scaler.fit_transform(X)\n",
        "\n",
        "  if oversample :\n",
        "    ros = RandomOverSampler()\n",
        "    X,y = ros.fit_resample(X,y) #Take more of the class with less data samples and keep sampling them\n",
        "\n",
        "  data = np.hstack((X, np.reshape(y, (-1,1))))\n",
        "\n",
        "  return data, X, y"
      ],
      "metadata": {
        "id": "3OiNyXWvg-iS"
      },
      "execution_count": null,
      "outputs": []
    },
    {
      "cell_type": "markdown",
      "source": [
        "#Rice\n",
        "\n",
        "Data : https://archive.ics.uci.edu/dataset/545/rice+cammeo+and+osmancik"
      ],
      "metadata": {
        "id": "6cBKRd4ecKPO"
      }
    },
    {
      "cell_type": "code",
      "source": [
        "cols = [\"Area Integer\", \"Perimeter Real\", \"Major_Axis_Length Real\",\n",
        "        \"Minor_Axis_Length Real\", \"Eccentricity\tReal\" ,\"Convex_Area\tInteger\", \"Extent Real\", \"Class\" ]"
      ],
      "metadata": {
        "id": "2H21pFgQN-KE"
      },
      "execution_count": null,
      "outputs": []
    },
    {
      "cell_type": "code",
      "source": [
        "df = pd.read_csv(\"rice.csv\", names = cols)\n"
      ],
      "metadata": {
        "id": "4RMczKSLO9zH"
      },
      "execution_count": null,
      "outputs": []
    },
    {
      "cell_type": "code",
      "source": [
        "df['Class'] = (df['Class'] == \"Cammeo\").astype(int)\n",
        "df['Class'].unique()"
      ],
      "metadata": {
        "colab": {
          "base_uri": "https://localhost:8080/"
        },
        "id": "m9e_bYIPPLY3",
        "outputId": "a6671cbf-6ca1-4eb9-f2cd-eb76f09dcf34"
      },
      "execution_count": null,
      "outputs": [
        {
          "output_type": "execute_result",
          "data": {
            "text/plain": [
              "array([1, 0])"
            ]
          },
          "metadata": {},
          "execution_count": 9
        }
      ]
    },
    {
      "cell_type": "code",
      "source": [
        "train, valid, test = np.split(df.sample(frac=1), [int(0.6*len(df)) , int(0.8*len(df))])\n"
      ],
      "metadata": {
        "id": "svbDpL24PPYr"
      },
      "execution_count": null,
      "outputs": []
    },
    {
      "cell_type": "code",
      "source": [
        "train, Xtrain, ytrain = scale_dataset(train, True)\n",
        "valid, Xvalid, yvalid = scale_dataset(valid, False)\n",
        "test, Xtest, ytest = scale_dataset(test, False)"
      ],
      "metadata": {
        "id": "A0MJkti3P8kE"
      },
      "execution_count": null,
      "outputs": []
    },
    {
      "cell_type": "code",
      "source": [
        "#KNN\n",
        "from sklearn.neighbors import KNeighborsClassifier\n",
        "from sklearn.metrics import classification_report"
      ],
      "metadata": {
        "id": "eZ-MRVqSQCY0"
      },
      "execution_count": null,
      "outputs": []
    },
    {
      "cell_type": "code",
      "source": [
        "knnModel = KNeighborsClassifier(n_neighbors=5)\n",
        "knnModel.fit(Xtrain,ytrain)\n",
        "ypredknn = knnModel.predict(Xtest)\n",
        "print(classification_report(ytest,ypredknn))"
      ],
      "metadata": {
        "colab": {
          "base_uri": "https://localhost:8080/"
        },
        "id": "06UY09OxQJdv",
        "outputId": "4a49b432-2846-4219-e26e-18857042eb59"
      },
      "execution_count": null,
      "outputs": [
        {
          "output_type": "stream",
          "name": "stdout",
          "text": [
            "              precision    recall  f1-score   support\n",
            "\n",
            "           0       0.92      0.90      0.91       428\n",
            "           1       0.87      0.90      0.89       334\n",
            "\n",
            "    accuracy                           0.90       762\n",
            "   macro avg       0.90      0.90      0.90       762\n",
            "weighted avg       0.90      0.90      0.90       762\n",
            "\n"
          ]
        }
      ]
    },
    {
      "cell_type": "code",
      "source": [
        "#NB\n",
        "from sklearn.naive_bayes import GaussianNB"
      ],
      "metadata": {
        "id": "D7aV_qYFQkdi"
      },
      "execution_count": null,
      "outputs": []
    },
    {
      "cell_type": "code",
      "source": [
        "nbModel = GaussianNB()\n",
        "nbModel.fit(Xtrain,ytrain)\n",
        "yprednb = nbModel.predict(Xtest)\n",
        "print(classification_report(ytest,yprednb))"
      ],
      "metadata": {
        "colab": {
          "base_uri": "https://localhost:8080/"
        },
        "id": "dZxkXEJ-QuuM",
        "outputId": "6191764d-8efc-4b65-9269-5459b9f9eb40"
      },
      "execution_count": null,
      "outputs": [
        {
          "output_type": "stream",
          "name": "stdout",
          "text": [
            "              precision    recall  f1-score   support\n",
            "\n",
            "           0       0.91      0.94      0.93       428\n",
            "           1       0.92      0.88      0.90       334\n",
            "\n",
            "    accuracy                           0.92       762\n",
            "   macro avg       0.92      0.91      0.91       762\n",
            "weighted avg       0.92      0.92      0.92       762\n",
            "\n"
          ]
        }
      ]
    },
    {
      "cell_type": "code",
      "source": [
        "#LR\n",
        "from sklearn.linear_model import LogisticRegression"
      ],
      "metadata": {
        "id": "XIS7ldn2Q-_L"
      },
      "execution_count": null,
      "outputs": []
    },
    {
      "cell_type": "code",
      "source": [
        "lrModel = LogisticRegression()\n",
        "lrModel.fit(Xtrain,ytrain)\n",
        "ypredlr = lrModel.predict(Xtest)\n",
        "print(classification_report(ytest, ypredlr))"
      ],
      "metadata": {
        "colab": {
          "base_uri": "https://localhost:8080/"
        },
        "id": "DYClLaf6RGxR",
        "outputId": "15c37d2f-0a37-4b68-9b94-848535d156a8"
      },
      "execution_count": null,
      "outputs": [
        {
          "output_type": "stream",
          "name": "stdout",
          "text": [
            "              precision    recall  f1-score   support\n",
            "\n",
            "           0       0.93      0.93      0.93       428\n",
            "           1       0.92      0.91      0.91       334\n",
            "\n",
            "    accuracy                           0.93       762\n",
            "   macro avg       0.92      0.92      0.92       762\n",
            "weighted avg       0.93      0.93      0.93       762\n",
            "\n"
          ]
        }
      ]
    },
    {
      "cell_type": "code",
      "source": [
        "#SVM\n",
        "from sklearn.svm import SVC"
      ],
      "metadata": {
        "id": "ZAdjwt4pScJO"
      },
      "execution_count": null,
      "outputs": []
    },
    {
      "cell_type": "code",
      "source": [
        "svModel = SVC()\n",
        "svModel.fit(Xtrain,ytrain)\n",
        "ypredsv = svModel.predict(Xtest)\n",
        "print(classification_report(ytest,ypredsv))"
      ],
      "metadata": {
        "colab": {
          "base_uri": "https://localhost:8080/"
        },
        "id": "E3t4X80RSmzp",
        "outputId": "17ad5ea8-27a9-4c6c-c412-df0de57b5444"
      },
      "execution_count": null,
      "outputs": [
        {
          "output_type": "stream",
          "name": "stdout",
          "text": [
            "              precision    recall  f1-score   support\n",
            "\n",
            "           0       0.93      0.93      0.93       428\n",
            "           1       0.90      0.91      0.91       334\n",
            "\n",
            "    accuracy                           0.92       762\n",
            "   macro avg       0.92      0.92      0.92       762\n",
            "weighted avg       0.92      0.92      0.92       762\n",
            "\n"
          ]
        }
      ]
    },
    {
      "cell_type": "markdown",
      "source": [
        "#Breast Cancer\n",
        "\n",
        "Data : https://archive.ics.uci.edu/dataset/15/breast+cancer+wisconsin+original"
      ],
      "metadata": {
        "id": "qJNjZe8aSyvT"
      }
    },
    {
      "cell_type": "code",
      "source": [
        "cols = [\"Sample code number\",\n",
        "        \"Clump Thickness\",\n",
        "        \"Uniformity of Cell Size\",\n",
        "        \"Uniformity of Cell Shape\",\n",
        "        \"Marginal Adhesion\",\n",
        "        \"Single Epithelial Cell Size\",\n",
        "        \"Bare Nuclei\",\n",
        "        \"Bland Chromatin\",\n",
        "        \"Normal Nucleoli\",\n",
        "        \"Mitoses\",\n",
        "        \"Class\"]"
      ],
      "metadata": {
        "id": "NY8Dka82dAO3"
      },
      "execution_count": null,
      "outputs": []
    },
    {
      "cell_type": "code",
      "source": [
        "df = pd.read_csv(\"breast-cancer-wisconsin.data\", names = cols)\n",
        "df.pop('Sample code number')"
      ],
      "metadata": {
        "colab": {
          "base_uri": "https://localhost:8080/"
        },
        "id": "yeGgdwz4gLNF",
        "outputId": "757f6c7e-d673-473c-c096-46e1d7aaf52a"
      },
      "execution_count": null,
      "outputs": [
        {
          "output_type": "execute_result",
          "data": {
            "text/plain": [
              "0      1000025\n",
              "1      1002945\n",
              "2      1015425\n",
              "3      1016277\n",
              "4      1017023\n",
              "        ...   \n",
              "678     776715\n",
              "679     841769\n",
              "680     888820\n",
              "681     897471\n",
              "682     897471\n",
              "Name: Sample code number, Length: 683, dtype: int64"
            ]
          },
          "metadata": {},
          "execution_count": 83
        }
      ]
    },
    {
      "cell_type": "code",
      "source": [
        "df['Class'] = (df['Class'] == 4).astype(int)\n",
        "df.head()"
      ],
      "metadata": {
        "colab": {
          "base_uri": "https://localhost:8080/",
          "height": 241
        },
        "id": "czfDijB3iCsF",
        "outputId": "a9ff1bb7-e5b2-46fa-ff70-5f8951430f7e"
      },
      "execution_count": null,
      "outputs": [
        {
          "output_type": "execute_result",
          "data": {
            "text/plain": [
              "   Clump Thickness  Uniformity of Cell Size  Uniformity of Cell Shape  \\\n",
              "0                5                        1                         1   \n",
              "1                5                        4                         4   \n",
              "2                3                        1                         1   \n",
              "3                6                        8                         8   \n",
              "4                4                        1                         1   \n",
              "\n",
              "   Marginal Adhesion  Single Epithelial Cell Size  Bare Nuclei  \\\n",
              "0                  1                            2            1   \n",
              "1                  5                            7           10   \n",
              "2                  1                            2            2   \n",
              "3                  1                            3            4   \n",
              "4                  3                            2            1   \n",
              "\n",
              "   Bland Chromatin  Normal Nucleoli  Mitoses  Class  \n",
              "0                3                1        1      0  \n",
              "1                3                2        1      0  \n",
              "2                3                1        1      0  \n",
              "3                3                7        1      0  \n",
              "4                3                1        1      0  "
            ],
            "text/html": [
              "\n",
              "  <div id=\"df-8816b58a-6570-4078-921d-ad593ff69916\" class=\"colab-df-container\">\n",
              "    <div>\n",
              "<style scoped>\n",
              "    .dataframe tbody tr th:only-of-type {\n",
              "        vertical-align: middle;\n",
              "    }\n",
              "\n",
              "    .dataframe tbody tr th {\n",
              "        vertical-align: top;\n",
              "    }\n",
              "\n",
              "    .dataframe thead th {\n",
              "        text-align: right;\n",
              "    }\n",
              "</style>\n",
              "<table border=\"1\" class=\"dataframe\">\n",
              "  <thead>\n",
              "    <tr style=\"text-align: right;\">\n",
              "      <th></th>\n",
              "      <th>Clump Thickness</th>\n",
              "      <th>Uniformity of Cell Size</th>\n",
              "      <th>Uniformity of Cell Shape</th>\n",
              "      <th>Marginal Adhesion</th>\n",
              "      <th>Single Epithelial Cell Size</th>\n",
              "      <th>Bare Nuclei</th>\n",
              "      <th>Bland Chromatin</th>\n",
              "      <th>Normal Nucleoli</th>\n",
              "      <th>Mitoses</th>\n",
              "      <th>Class</th>\n",
              "    </tr>\n",
              "  </thead>\n",
              "  <tbody>\n",
              "    <tr>\n",
              "      <th>0</th>\n",
              "      <td>5</td>\n",
              "      <td>1</td>\n",
              "      <td>1</td>\n",
              "      <td>1</td>\n",
              "      <td>2</td>\n",
              "      <td>1</td>\n",
              "      <td>3</td>\n",
              "      <td>1</td>\n",
              "      <td>1</td>\n",
              "      <td>0</td>\n",
              "    </tr>\n",
              "    <tr>\n",
              "      <th>1</th>\n",
              "      <td>5</td>\n",
              "      <td>4</td>\n",
              "      <td>4</td>\n",
              "      <td>5</td>\n",
              "      <td>7</td>\n",
              "      <td>10</td>\n",
              "      <td>3</td>\n",
              "      <td>2</td>\n",
              "      <td>1</td>\n",
              "      <td>0</td>\n",
              "    </tr>\n",
              "    <tr>\n",
              "      <th>2</th>\n",
              "      <td>3</td>\n",
              "      <td>1</td>\n",
              "      <td>1</td>\n",
              "      <td>1</td>\n",
              "      <td>2</td>\n",
              "      <td>2</td>\n",
              "      <td>3</td>\n",
              "      <td>1</td>\n",
              "      <td>1</td>\n",
              "      <td>0</td>\n",
              "    </tr>\n",
              "    <tr>\n",
              "      <th>3</th>\n",
              "      <td>6</td>\n",
              "      <td>8</td>\n",
              "      <td>8</td>\n",
              "      <td>1</td>\n",
              "      <td>3</td>\n",
              "      <td>4</td>\n",
              "      <td>3</td>\n",
              "      <td>7</td>\n",
              "      <td>1</td>\n",
              "      <td>0</td>\n",
              "    </tr>\n",
              "    <tr>\n",
              "      <th>4</th>\n",
              "      <td>4</td>\n",
              "      <td>1</td>\n",
              "      <td>1</td>\n",
              "      <td>3</td>\n",
              "      <td>2</td>\n",
              "      <td>1</td>\n",
              "      <td>3</td>\n",
              "      <td>1</td>\n",
              "      <td>1</td>\n",
              "      <td>0</td>\n",
              "    </tr>\n",
              "  </tbody>\n",
              "</table>\n",
              "</div>\n",
              "    <div class=\"colab-df-buttons\">\n",
              "\n",
              "  <div class=\"colab-df-container\">\n",
              "    <button class=\"colab-df-convert\" onclick=\"convertToInteractive('df-8816b58a-6570-4078-921d-ad593ff69916')\"\n",
              "            title=\"Convert this dataframe to an interactive table.\"\n",
              "            style=\"display:none;\">\n",
              "\n",
              "  <svg xmlns=\"http://www.w3.org/2000/svg\" height=\"24px\" viewBox=\"0 -960 960 960\">\n",
              "    <path d=\"M120-120v-720h720v720H120Zm60-500h600v-160H180v160Zm220 220h160v-160H400v160Zm0 220h160v-160H400v160ZM180-400h160v-160H180v160Zm440 0h160v-160H620v160ZM180-180h160v-160H180v160Zm440 0h160v-160H620v160Z\"/>\n",
              "  </svg>\n",
              "    </button>\n",
              "\n",
              "  <style>\n",
              "    .colab-df-container {\n",
              "      display:flex;\n",
              "      gap: 12px;\n",
              "    }\n",
              "\n",
              "    .colab-df-convert {\n",
              "      background-color: #E8F0FE;\n",
              "      border: none;\n",
              "      border-radius: 50%;\n",
              "      cursor: pointer;\n",
              "      display: none;\n",
              "      fill: #1967D2;\n",
              "      height: 32px;\n",
              "      padding: 0 0 0 0;\n",
              "      width: 32px;\n",
              "    }\n",
              "\n",
              "    .colab-df-convert:hover {\n",
              "      background-color: #E2EBFA;\n",
              "      box-shadow: 0px 1px 2px rgba(60, 64, 67, 0.3), 0px 1px 3px 1px rgba(60, 64, 67, 0.15);\n",
              "      fill: #174EA6;\n",
              "    }\n",
              "\n",
              "    .colab-df-buttons div {\n",
              "      margin-bottom: 4px;\n",
              "    }\n",
              "\n",
              "    [theme=dark] .colab-df-convert {\n",
              "      background-color: #3B4455;\n",
              "      fill: #D2E3FC;\n",
              "    }\n",
              "\n",
              "    [theme=dark] .colab-df-convert:hover {\n",
              "      background-color: #434B5C;\n",
              "      box-shadow: 0px 1px 3px 1px rgba(0, 0, 0, 0.15);\n",
              "      filter: drop-shadow(0px 1px 2px rgba(0, 0, 0, 0.3));\n",
              "      fill: #FFFFFF;\n",
              "    }\n",
              "  </style>\n",
              "\n",
              "    <script>\n",
              "      const buttonEl =\n",
              "        document.querySelector('#df-8816b58a-6570-4078-921d-ad593ff69916 button.colab-df-convert');\n",
              "      buttonEl.style.display =\n",
              "        google.colab.kernel.accessAllowed ? 'block' : 'none';\n",
              "\n",
              "      async function convertToInteractive(key) {\n",
              "        const element = document.querySelector('#df-8816b58a-6570-4078-921d-ad593ff69916');\n",
              "        const dataTable =\n",
              "          await google.colab.kernel.invokeFunction('convertToInteractive',\n",
              "                                                    [key], {});\n",
              "        if (!dataTable) return;\n",
              "\n",
              "        const docLinkHtml = 'Like what you see? Visit the ' +\n",
              "          '<a target=\"_blank\" href=https://colab.research.google.com/notebooks/data_table.ipynb>data table notebook</a>'\n",
              "          + ' to learn more about interactive tables.';\n",
              "        element.innerHTML = '';\n",
              "        dataTable['output_type'] = 'display_data';\n",
              "        await google.colab.output.renderOutput(dataTable, element);\n",
              "        const docLink = document.createElement('div');\n",
              "        docLink.innerHTML = docLinkHtml;\n",
              "        element.appendChild(docLink);\n",
              "      }\n",
              "    </script>\n",
              "  </div>\n",
              "\n",
              "\n",
              "<div id=\"df-29a40ede-4fe2-44d6-ad75-47f2380288cd\">\n",
              "  <button class=\"colab-df-quickchart\" onclick=\"quickchart('df-29a40ede-4fe2-44d6-ad75-47f2380288cd')\"\n",
              "            title=\"Suggest charts.\"\n",
              "            style=\"display:none;\">\n",
              "\n",
              "<svg xmlns=\"http://www.w3.org/2000/svg\" height=\"24px\"viewBox=\"0 0 24 24\"\n",
              "     width=\"24px\">\n",
              "    <g>\n",
              "        <path d=\"M19 3H5c-1.1 0-2 .9-2 2v14c0 1.1.9 2 2 2h14c1.1 0 2-.9 2-2V5c0-1.1-.9-2-2-2zM9 17H7v-7h2v7zm4 0h-2V7h2v10zm4 0h-2v-4h2v4z\"/>\n",
              "    </g>\n",
              "</svg>\n",
              "  </button>\n",
              "\n",
              "<style>\n",
              "  .colab-df-quickchart {\n",
              "      --bg-color: #E8F0FE;\n",
              "      --fill-color: #1967D2;\n",
              "      --hover-bg-color: #E2EBFA;\n",
              "      --hover-fill-color: #174EA6;\n",
              "      --disabled-fill-color: #AAA;\n",
              "      --disabled-bg-color: #DDD;\n",
              "  }\n",
              "\n",
              "  [theme=dark] .colab-df-quickchart {\n",
              "      --bg-color: #3B4455;\n",
              "      --fill-color: #D2E3FC;\n",
              "      --hover-bg-color: #434B5C;\n",
              "      --hover-fill-color: #FFFFFF;\n",
              "      --disabled-bg-color: #3B4455;\n",
              "      --disabled-fill-color: #666;\n",
              "  }\n",
              "\n",
              "  .colab-df-quickchart {\n",
              "    background-color: var(--bg-color);\n",
              "    border: none;\n",
              "    border-radius: 50%;\n",
              "    cursor: pointer;\n",
              "    display: none;\n",
              "    fill: var(--fill-color);\n",
              "    height: 32px;\n",
              "    padding: 0;\n",
              "    width: 32px;\n",
              "  }\n",
              "\n",
              "  .colab-df-quickchart:hover {\n",
              "    background-color: var(--hover-bg-color);\n",
              "    box-shadow: 0 1px 2px rgba(60, 64, 67, 0.3), 0 1px 3px 1px rgba(60, 64, 67, 0.15);\n",
              "    fill: var(--button-hover-fill-color);\n",
              "  }\n",
              "\n",
              "  .colab-df-quickchart-complete:disabled,\n",
              "  .colab-df-quickchart-complete:disabled:hover {\n",
              "    background-color: var(--disabled-bg-color);\n",
              "    fill: var(--disabled-fill-color);\n",
              "    box-shadow: none;\n",
              "  }\n",
              "\n",
              "  .colab-df-spinner {\n",
              "    border: 2px solid var(--fill-color);\n",
              "    border-color: transparent;\n",
              "    border-bottom-color: var(--fill-color);\n",
              "    animation:\n",
              "      spin 1s steps(1) infinite;\n",
              "  }\n",
              "\n",
              "  @keyframes spin {\n",
              "    0% {\n",
              "      border-color: transparent;\n",
              "      border-bottom-color: var(--fill-color);\n",
              "      border-left-color: var(--fill-color);\n",
              "    }\n",
              "    20% {\n",
              "      border-color: transparent;\n",
              "      border-left-color: var(--fill-color);\n",
              "      border-top-color: var(--fill-color);\n",
              "    }\n",
              "    30% {\n",
              "      border-color: transparent;\n",
              "      border-left-color: var(--fill-color);\n",
              "      border-top-color: var(--fill-color);\n",
              "      border-right-color: var(--fill-color);\n",
              "    }\n",
              "    40% {\n",
              "      border-color: transparent;\n",
              "      border-right-color: var(--fill-color);\n",
              "      border-top-color: var(--fill-color);\n",
              "    }\n",
              "    60% {\n",
              "      border-color: transparent;\n",
              "      border-right-color: var(--fill-color);\n",
              "    }\n",
              "    80% {\n",
              "      border-color: transparent;\n",
              "      border-right-color: var(--fill-color);\n",
              "      border-bottom-color: var(--fill-color);\n",
              "    }\n",
              "    90% {\n",
              "      border-color: transparent;\n",
              "      border-bottom-color: var(--fill-color);\n",
              "    }\n",
              "  }\n",
              "</style>\n",
              "\n",
              "  <script>\n",
              "    async function quickchart(key) {\n",
              "      const quickchartButtonEl =\n",
              "        document.querySelector('#' + key + ' button');\n",
              "      quickchartButtonEl.disabled = true;  // To prevent multiple clicks.\n",
              "      quickchartButtonEl.classList.add('colab-df-spinner');\n",
              "      try {\n",
              "        const charts = await google.colab.kernel.invokeFunction(\n",
              "            'suggestCharts', [key], {});\n",
              "      } catch (error) {\n",
              "        console.error('Error during call to suggestCharts:', error);\n",
              "      }\n",
              "      quickchartButtonEl.classList.remove('colab-df-spinner');\n",
              "      quickchartButtonEl.classList.add('colab-df-quickchart-complete');\n",
              "    }\n",
              "    (() => {\n",
              "      let quickchartButtonEl =\n",
              "        document.querySelector('#df-29a40ede-4fe2-44d6-ad75-47f2380288cd button');\n",
              "      quickchartButtonEl.style.display =\n",
              "        google.colab.kernel.accessAllowed ? 'block' : 'none';\n",
              "    })();\n",
              "  </script>\n",
              "</div>\n",
              "    </div>\n",
              "  </div>\n"
            ]
          },
          "metadata": {},
          "execution_count": 84
        }
      ]
    },
    {
      "cell_type": "code",
      "source": [
        "train, test = np.split(df.sample(frac=1), [int(0.8*len(df))])"
      ],
      "metadata": {
        "id": "5vscjeqPgnuT"
      },
      "execution_count": null,
      "outputs": []
    },
    {
      "cell_type": "code",
      "source": [
        "train, Xtrain, ytrain = scale_dataset(train, True)\n",
        "test, Xtest, ytest = scale_dataset(test, False)"
      ],
      "metadata": {
        "id": "3YciFHxng1OR"
      },
      "execution_count": null,
      "outputs": []
    },
    {
      "cell_type": "code",
      "source": [
        "import tensorflow as tf"
      ],
      "metadata": {
        "id": "AtuseQ34hKDW"
      },
      "execution_count": null,
      "outputs": []
    },
    {
      "cell_type": "code",
      "source": [
        "model = tf.keras.Sequential([\n",
        "    tf.keras.layers.Dense(128, activation = tf.keras.activations.relu, input_shape = (9,)),\n",
        "    tf.keras.layers.Dense(128,activation = tf.keras.activations.relu),\n",
        "    tf.keras.layers.Dense(1,activation = tf.keras.activations.sigmoid)\n",
        "    #tf.keras.layers.Dense(2,activation = tf.keras.activations.softmax)\n",
        "])\n",
        "\n",
        "model.compile(optimizer = 'adam',\n",
        "              #loss = tf.keras.losses.sparse_categorical_crossentropy,\n",
        "              loss = tf.keras.losses.binary_crossentropy,\n",
        "              metrics = ['accuracy']\n",
        "             )\n",
        "\n",
        "#Can't use binary cross entropy if output layer is more than 1 neuron. if using more than one sparse_categorical_crossentropy\n",
        "#Softmax will work for more than one neuron only cannot be 1. If using 1 neuron use sigmoid"
      ],
      "metadata": {
        "id": "VlfB6nOEhMeQ"
      },
      "execution_count": null,
      "outputs": []
    },
    {
      "cell_type": "code",
      "source": [
        "model.fit(Xtrain,ytrain,epochs = 10)"
      ],
      "metadata": {
        "colab": {
          "base_uri": "https://localhost:8080/"
        },
        "id": "N0pC4HDei39O",
        "outputId": "9bfba324-0ade-44d1-94de-f1040f56ed88"
      },
      "execution_count": null,
      "outputs": [
        {
          "output_type": "stream",
          "name": "stdout",
          "text": [
            "Epoch 1/10\n",
            "23/23 [==============================] - 1s 4ms/step - loss: 0.3739 - accuracy: 0.9100\n",
            "Epoch 2/10\n",
            "23/23 [==============================] - 0s 4ms/step - loss: 0.1023 - accuracy: 0.9751\n",
            "Epoch 3/10\n",
            "23/23 [==============================] - 0s 4ms/step - loss: 0.0757 - accuracy: 0.9765\n",
            "Epoch 4/10\n",
            "23/23 [==============================] - 0s 4ms/step - loss: 0.0691 - accuracy: 0.9765\n",
            "Epoch 5/10\n",
            "23/23 [==============================] - 0s 4ms/step - loss: 0.0649 - accuracy: 0.9792\n",
            "Epoch 6/10\n",
            "23/23 [==============================] - 0s 4ms/step - loss: 0.0617 - accuracy: 0.9820\n",
            "Epoch 7/10\n",
            "23/23 [==============================] - 0s 4ms/step - loss: 0.0590 - accuracy: 0.9834\n",
            "Epoch 8/10\n",
            "23/23 [==============================] - 0s 4ms/step - loss: 0.0568 - accuracy: 0.9848\n",
            "Epoch 9/10\n",
            "23/23 [==============================] - 0s 5ms/step - loss: 0.0544 - accuracy: 0.9861\n",
            "Epoch 10/10\n",
            "23/23 [==============================] - 0s 4ms/step - loss: 0.0521 - accuracy: 0.9848\n"
          ]
        },
        {
          "output_type": "execute_result",
          "data": {
            "text/plain": [
              "<keras.callbacks.History at 0x7b736ffc3850>"
            ]
          },
          "metadata": {},
          "execution_count": 92
        }
      ]
    },
    {
      "cell_type": "code",
      "source": [
        "model.evaluate(Xtest,ytest)"
      ],
      "metadata": {
        "colab": {
          "base_uri": "https://localhost:8080/"
        },
        "id": "rHHHDfHfjMYE",
        "outputId": "dde02f5c-c7a6-4074-a90c-c1bed87af024"
      },
      "execution_count": null,
      "outputs": [
        {
          "output_type": "stream",
          "name": "stdout",
          "text": [
            "5/5 [==============================] - 0s 4ms/step - loss: 0.0765 - accuracy: 0.9708\n"
          ]
        },
        {
          "output_type": "execute_result",
          "data": {
            "text/plain": [
              "[0.07647543400526047, 0.970802903175354]"
            ]
          },
          "metadata": {},
          "execution_count": 93
        }
      ]
    },
    {
      "cell_type": "code",
      "source": [
        "ytrain.shape"
      ],
      "metadata": {
        "colab": {
          "base_uri": "https://localhost:8080/"
        },
        "id": "kCsHCusurtCI",
        "outputId": "152e65eb-b65e-4a61-8344-ccedd6da26d2"
      },
      "execution_count": null,
      "outputs": [
        {
          "output_type": "execute_result",
          "data": {
            "text/plain": [
              "(722,)"
            ]
          },
          "metadata": {},
          "execution_count": 94
        }
      ]
    },
    {
      "cell_type": "code",
      "source": [
        "ytest.shape"
      ],
      "metadata": {
        "colab": {
          "base_uri": "https://localhost:8080/"
        },
        "id": "5FgAyS4sruUs",
        "outputId": "6a4dcc20-6fdd-4c59-b84d-9bde63175bfa"
      },
      "execution_count": null,
      "outputs": [
        {
          "output_type": "execute_result",
          "data": {
            "text/plain": [
              "(137,)"
            ]
          },
          "metadata": {},
          "execution_count": 95
        }
      ]
    },
    {
      "cell_type": "code",
      "source": [],
      "metadata": {
        "id": "jO2k7WC6rv8F"
      },
      "execution_count": null,
      "outputs": []
    },
    {
      "cell_type": "markdown",
      "source": [
        "#Fungi Image Processing\n",
        "\n",
        "Data : https://archive.ics.uci.edu/dataset/773/defungi"
      ],
      "metadata": {
        "id": "aBKoEWaLmVH1"
      }
    },
    {
      "cell_type": "code",
      "source": [
        "import tensorflow as tf"
      ],
      "metadata": {
        "id": "cmbR90YMmZPg"
      },
      "execution_count": null,
      "outputs": []
    },
    {
      "cell_type": "code",
      "source": [
        "!unzip /content/drive/MyDrive/defungi.zip  #Puts it in the content folder by default also"
      ],
      "metadata": {
        "id": "LtdNU19Htt0Z"
      },
      "execution_count": null,
      "outputs": []
    },
    {
      "cell_type": "code",
      "source": [
        "ds = tf.keras.utils.image_dataset_from_directory(\n",
        "    'defungi',\n",
        "    labels='inferred',\n",
        "    label_mode='int',\n",
        "    batch_size=32,\n",
        "    image_size=(224, 224),\n",
        ")"
      ],
      "metadata": {
        "colab": {
          "base_uri": "https://localhost:8080/"
        },
        "id": "R4Dn2Pt_nN-J",
        "outputId": "97b0b8a2-1855-4b8f-8874-c40c2b32c6ef"
      },
      "execution_count": null,
      "outputs": [
        {
          "output_type": "stream",
          "name": "stdout",
          "text": [
            "Found 9114 files belonging to 5 classes.\n"
          ]
        }
      ]
    },
    {
      "cell_type": "code",
      "source": [
        "import tensorflow_datasets as tfds"
      ],
      "metadata": {
        "id": "dqrZG2Giv0hZ"
      },
      "execution_count": null,
      "outputs": []
    },
    {
      "cell_type": "code",
      "source": [
        "ds"
      ],
      "metadata": {
        "colab": {
          "base_uri": "https://localhost:8080/"
        },
        "id": "778a5_piv5k8",
        "outputId": "171e3c88-e131-4bfb-8a63-4a8cbe414276"
      },
      "execution_count": null,
      "outputs": [
        {
          "output_type": "execute_result",
          "data": {
            "text/plain": [
              "<_BatchDataset element_spec=(TensorSpec(shape=(None, 224, 224, 3), dtype=tf.float32, name=None), TensorSpec(shape=(None,), dtype=tf.int32, name=None))>"
            ]
          },
          "metadata": {},
          "execution_count": 30
        }
      ]
    },
    {
      "cell_type": "code",
      "source": [
        "from keras.layers.pooling.max_pooling2d import MaxPool2D\n",
        "#Making a CNN\n",
        "\n",
        "model = tf.keras.Sequential([\n",
        "    tf.keras.layers.Conv2D(32,(3,3),activation = 'relu', input_shape = (224,224,3)),\n",
        "    tf.keras.layers.MaxPooling2D((2,2)),\n",
        "    tf.keras.layers.Conv2D(64,(3,3),activation = 'relu'),\n",
        "    tf.keras.layers.MaxPooling2D((2,2)),\n",
        "    tf.keras.layers.Conv2D(64,(3,3),activation = 'relu'),\n",
        "    tf.keras.layers.MaxPooling2D((2,2)),\n",
        "    tf.keras.layers.Flatten(),\n",
        "    tf.keras.layers.Dense(64,activation = 'relu'),\n",
        "    tf.keras.layers.Dense(6,activation = tf.keras.activations.softmax)\n",
        "])\n",
        "\n",
        "\n",
        "model.compile(optimizer = 'adam',\n",
        "              loss = tf.keras.losses.sparse_categorical_crossentropy,\n",
        "              metrics = ['accuracy'])"
      ],
      "metadata": {
        "id": "96aZXE1XNh71"
      },
      "execution_count": null,
      "outputs": []
    },
    {
      "cell_type": "code",
      "source": [
        "model.fit(ds,epochs = 5)"
      ],
      "metadata": {
        "colab": {
          "base_uri": "https://localhost:8080/"
        },
        "id": "E5leQP9FPGjD",
        "outputId": "9b322c5c-c876-4435-8276-94cbcf51ab0b"
      },
      "execution_count": null,
      "outputs": [
        {
          "output_type": "stream",
          "name": "stdout",
          "text": [
            "Epoch 1/5\n",
            "285/285 [==============================] - 23s 79ms/step - loss: 1.3378 - accuracy: 0.4833\n",
            "Epoch 2/5\n",
            "285/285 [==============================] - 18s 64ms/step - loss: 1.3373 - accuracy: 0.4832\n",
            "Epoch 3/5\n",
            "285/285 [==============================] - 19s 65ms/step - loss: 1.3440 - accuracy: 0.4832\n",
            "Epoch 4/5\n",
            "285/285 [==============================] - 20s 67ms/step - loss: 1.4314 - accuracy: 0.4816\n",
            "Epoch 5/5\n",
            "285/285 [==============================] - 19s 64ms/step - loss: 1.3375 - accuracy: 0.4832\n"
          ]
        },
        {
          "output_type": "execute_result",
          "data": {
            "text/plain": [
              "<keras.callbacks.History at 0x7d601a2d6ce0>"
            ]
          },
          "metadata": {},
          "execution_count": 48
        }
      ]
    },
    {
      "cell_type": "markdown",
      "source": [
        "##Pretrained CNN"
      ],
      "metadata": {
        "id": "IXb-opL9QNK8"
      }
    },
    {
      "cell_type": "code",
      "source": [
        "IMG_SHAPE = (224, 224, 3)\n",
        "\n",
        "# Create the base model from the pre-trained model MobileNet V2\n",
        "base_model = tf.keras.applications.MobileNetV2(input_shape=IMG_SHAPE,\n",
        "                                               include_top=False,\n",
        "                                               weights='imagenet')\n",
        "\n",
        "base_model.trainable = False"
      ],
      "metadata": {
        "id": "q7sbr0M6PTmv"
      },
      "execution_count": null,
      "outputs": []
    },
    {
      "cell_type": "code",
      "source": [
        "global_average_pooling = tf.keras.layers.GlobalAveragePooling2D() #For flattening the data that base model will forward\n",
        "prediction_layer = tf.keras.layers.Dense(6,activation = 'softmax')"
      ],
      "metadata": {
        "id": "YXDxuhKVQhnA"
      },
      "execution_count": null,
      "outputs": []
    },
    {
      "cell_type": "code",
      "source": [
        "model_pretrained = tf.keras.Sequential([\n",
        "    base_model,\n",
        "    global_average_pooling,\n",
        "    tf.keras.layers.Dense(64,activation = 'relu'),\n",
        "    prediction_layer\n",
        "])"
      ],
      "metadata": {
        "id": "tMrWINHDRFRG"
      },
      "execution_count": null,
      "outputs": []
    },
    {
      "cell_type": "code",
      "source": [
        "model_pretrained.compile(optimizer = 'adam',\n",
        "              loss = tf.keras.losses.sparse_categorical_crossentropy,\n",
        "              metrics = ['accuracy'])"
      ],
      "metadata": {
        "id": "OePvQORKRIxV"
      },
      "execution_count": null,
      "outputs": []
    },
    {
      "cell_type": "code",
      "source": [
        "model_pretrained.fit(ds,epochs = 10)"
      ],
      "metadata": {
        "colab": {
          "base_uri": "https://localhost:8080/"
        },
        "id": "Zto02kQxRPMm",
        "outputId": "91cf95da-ad79-403d-a98a-db8abe094fc4"
      },
      "execution_count": null,
      "outputs": [
        {
          "output_type": "stream",
          "name": "stdout",
          "text": [
            "Epoch 1/10\n",
            "285/285 [==============================] - 23s 64ms/step - loss: 0.9540 - accuracy: 0.6062\n",
            "Epoch 2/10\n",
            "285/285 [==============================] - 18s 62ms/step - loss: 0.8021 - accuracy: 0.6696\n",
            "Epoch 3/10\n",
            "285/285 [==============================] - 19s 66ms/step - loss: 0.7519 - accuracy: 0.6914\n",
            "Epoch 4/10\n",
            "285/285 [==============================] - 19s 63ms/step - loss: 0.7124 - accuracy: 0.7075\n",
            "Epoch 5/10\n",
            "285/285 [==============================] - 17s 60ms/step - loss: 0.6810 - accuracy: 0.7222\n",
            "Epoch 6/10\n",
            "285/285 [==============================] - 18s 61ms/step - loss: 0.6468 - accuracy: 0.7385\n",
            "Epoch 7/10\n",
            "285/285 [==============================] - 19s 67ms/step - loss: 0.6294 - accuracy: 0.7415\n",
            "Epoch 8/10\n",
            "285/285 [==============================] - 18s 61ms/step - loss: 0.6078 - accuracy: 0.7535\n",
            "Epoch 9/10\n",
            "285/285 [==============================] - 18s 62ms/step - loss: 0.5764 - accuracy: 0.7673\n",
            "Epoch 10/10\n",
            "285/285 [==============================] - 19s 67ms/step - loss: 0.5583 - accuracy: 0.7725\n"
          ]
        },
        {
          "output_type": "execute_result",
          "data": {
            "text/plain": [
              "<keras.callbacks.History at 0x7d601a3117e0>"
            ]
          },
          "metadata": {},
          "execution_count": 47
        }
      ]
    },
    {
      "cell_type": "markdown",
      "source": [
        "Achieving 48 percent accuracy with my own covnet and the pretrained covnet reaches upto 77. So not too shabby :)"
      ],
      "metadata": {
        "id": "2AsIfxBnT6DP"
      }
    },
    {
      "cell_type": "markdown",
      "source": [
        "#Drowsiness Detection\n",
        "\n",
        "Data : https://www.kaggle.com/datasets/hazemfahmy/openned-closed-eyes"
      ],
      "metadata": {
        "id": "CNgwr8KYRSZF"
      }
    },
    {
      "cell_type": "code",
      "source": [
        "import tensorflow as tf"
      ],
      "metadata": {
        "id": "JLPkeyFgWhjT"
      },
      "execution_count": null,
      "outputs": []
    },
    {
      "cell_type": "code",
      "source": [
        "!unzip /content/drive/MyDrive/TrainingData/Drowsiness/TestSet.zip\n",
        "!unzip /content/drive/MyDrive/TrainingData/Drowsiness/TrainingSet.zip"
      ],
      "metadata": {
        "id": "P1BA3Xc5ecB5"
      },
      "execution_count": null,
      "outputs": []
    },
    {
      "cell_type": "code",
      "source": [
        "train_ds = tf.keras.utils.image_dataset_from_directory(\n",
        "    'TrainingSet',\n",
        "    labels='inferred',\n",
        "    label_mode='int',\n",
        "    batch_size=32,\n",
        "    image_size=(224, 224),\n",
        ")\n",
        "\n",
        "test_ds = tf.keras.utils.image_dataset_from_directory(\n",
        "    'TestSet',\n",
        "    labels='inferred',\n",
        "    label_mode='int',\n",
        "    batch_size=32,\n",
        "    image_size=(224, 224),\n",
        ")"
      ],
      "metadata": {
        "colab": {
          "base_uri": "https://localhost:8080/"
        },
        "id": "TYoi5Yqyeirk",
        "outputId": "7b499626-59de-4e10-a551-3ef3e9c3fbbf"
      },
      "execution_count": null,
      "outputs": [
        {
          "output_type": "stream",
          "name": "stdout",
          "text": [
            "Found 1704 files belonging to 2 classes.\n",
            "Found 4232 files belonging to 2 classes.\n"
          ]
        }
      ]
    },
    {
      "cell_type": "code",
      "source": [
        "train_ds\n"
      ],
      "metadata": {
        "colab": {
          "base_uri": "https://localhost:8080/"
        },
        "id": "awdHJHWZfboc",
        "outputId": "259b6677-b884-451f-85a3-401098739426"
      },
      "execution_count": null,
      "outputs": [
        {
          "output_type": "execute_result",
          "data": {
            "text/plain": [
              "<_BatchDataset element_spec=(TensorSpec(shape=(None, 224, 224, 3), dtype=tf.float32, name=None), TensorSpec(shape=(None,), dtype=tf.int32, name=None))>"
            ]
          },
          "metadata": {},
          "execution_count": 63
        }
      ]
    },
    {
      "cell_type": "code",
      "source": [
        "model = tf.keras.Sequential([\n",
        "    tf.keras.layers.Conv2D(32,(3,3),activation = 'relu', input_shape = (224,224,3)),\n",
        "    tf.keras.layers.MaxPooling2D((2,2)),\n",
        "    tf.keras.layers.Conv2D(64,(3,3),activation = 'relu'),\n",
        "    tf.keras.layers.MaxPooling2D((2,2)),\n",
        "    tf.keras.layers.Conv2D(64,(3,3),activation = 'relu'),\n",
        "    tf.keras.layers.MaxPooling2D((2,2)),\n",
        "    tf.keras.layers.Flatten(),\n",
        "    tf.keras.layers.Dense(64,activation = 'relu'),\n",
        "    tf.keras.layers.Dense(2,activation = tf.keras.activations.softmax)\n",
        "])\n",
        "\n",
        "\n",
        "model.compile(optimizer = 'adam',\n",
        "              loss = tf.keras.losses.sparse_categorical_crossentropy,\n",
        "              metrics = ['accuracy'])"
      ],
      "metadata": {
        "id": "ggtplGrufEMj"
      },
      "execution_count": null,
      "outputs": []
    },
    {
      "cell_type": "code",
      "source": [
        "model.fit(train_ds,epochs = 5)"
      ],
      "metadata": {
        "colab": {
          "base_uri": "https://localhost:8080/"
        },
        "id": "g3p8o5gQflg4",
        "outputId": "8018ddab-0062-4184-b3a9-2baef5e00d51"
      },
      "execution_count": null,
      "outputs": [
        {
          "output_type": "stream",
          "name": "stdout",
          "text": [
            "Epoch 1/5\n",
            "54/54 [==============================] - 6s 72ms/step - loss: 15.6583 - accuracy: 0.7142\n",
            "Epoch 2/5\n",
            "54/54 [==============================] - 4s 68ms/step - loss: 0.2462 - accuracy: 0.9120\n",
            "Epoch 3/5\n",
            "54/54 [==============================] - 4s 60ms/step - loss: 0.1484 - accuracy: 0.9542\n",
            "Epoch 4/5\n",
            "54/54 [==============================] - 4s 60ms/step - loss: 0.1102 - accuracy: 0.9619\n",
            "Epoch 5/5\n",
            "54/54 [==============================] - 5s 90ms/step - loss: 0.0690 - accuracy: 0.9759\n"
          ]
        },
        {
          "output_type": "execute_result",
          "data": {
            "text/plain": [
              "<keras.callbacks.History at 0x7d601f652410>"
            ]
          },
          "metadata": {},
          "execution_count": 65
        }
      ]
    },
    {
      "cell_type": "code",
      "source": [
        "model.evaluate(test_ds)"
      ],
      "metadata": {
        "colab": {
          "base_uri": "https://localhost:8080/"
        },
        "id": "fOLKSoJ8fuMK",
        "outputId": "ee3bdcdf-6753-4920-bd17-4d2fc4631590"
      },
      "execution_count": null,
      "outputs": [
        {
          "output_type": "stream",
          "name": "stdout",
          "text": [
            "133/133 [==============================] - 7s 52ms/step - loss: 0.2027 - accuracy: 0.9279\n"
          ]
        },
        {
          "output_type": "execute_result",
          "data": {
            "text/plain": [
              "[0.20272010564804077, 0.9279300570487976]"
            ]
          },
          "metadata": {},
          "execution_count": 66
        }
      ]
    },
    {
      "cell_type": "markdown",
      "source": [
        "WOW"
      ],
      "metadata": {
        "id": "gxAWK67qf-C3"
      }
    },
    {
      "cell_type": "code",
      "source": [
        "IMG_SHAPE = (224, 224, 3)\n",
        "\n",
        "# Create the base model from the pre-trained model MobileNet V2\n",
        "base_model = tf.keras.applications.MobileNetV2(input_shape=IMG_SHAPE,\n",
        "                                               include_top=False,\n",
        "                                               weights='imagenet')\n",
        "\n",
        "base_model.trainable = False\n",
        "\n",
        "global_average_pooling = tf.keras.layers.GlobalAveragePooling2D() #For flattening the data that base model will forward\n",
        "prediction_layer = tf.keras.layers.Dense(2,activation = 'softmax')"
      ],
      "metadata": {
        "id": "Kg7aNGOzf5hm"
      },
      "execution_count": null,
      "outputs": []
    },
    {
      "cell_type": "code",
      "source": [
        "model_pretrained = tf.keras.Sequential([\n",
        "    base_model,\n",
        "    global_average_pooling,\n",
        "    tf.keras.layers.Dense(64,activation = 'relu'),\n",
        "    prediction_layer\n",
        "])\n",
        "\n",
        "model_pretrained.compile(optimizer = 'adam',\n",
        "              loss = tf.keras.losses.sparse_categorical_crossentropy,\n",
        "              metrics = ['accuracy'])"
      ],
      "metadata": {
        "id": "yicjHgv8gL1J"
      },
      "execution_count": null,
      "outputs": []
    },
    {
      "cell_type": "code",
      "source": [
        "model_pretrained.fit(train_ds,epochs = 5)"
      ],
      "metadata": {
        "colab": {
          "base_uri": "https://localhost:8080/"
        },
        "id": "a6UjW6l3gQlP",
        "outputId": "58e7573c-16bd-48af-eb74-513ec8545bc4"
      },
      "execution_count": null,
      "outputs": [
        {
          "output_type": "stream",
          "name": "stdout",
          "text": [
            "Epoch 1/5\n",
            "54/54 [==============================] - 7s 58ms/step - loss: 0.3503 - accuracy: 0.8521\n",
            "Epoch 2/5\n",
            "54/54 [==============================] - 5s 87ms/step - loss: 0.2033 - accuracy: 0.9196\n",
            "Epoch 3/5\n",
            "54/54 [==============================] - 5s 81ms/step - loss: 0.1784 - accuracy: 0.9313\n",
            "Epoch 4/5\n",
            "54/54 [==============================] - 3s 57ms/step - loss: 0.1895 - accuracy: 0.9284\n",
            "Epoch 5/5\n",
            "54/54 [==============================] - 5s 77ms/step - loss: 0.1698 - accuracy: 0.9349\n"
          ]
        },
        {
          "output_type": "execute_result",
          "data": {
            "text/plain": [
              "<keras.callbacks.History at 0x7d601f9274f0>"
            ]
          },
          "metadata": {},
          "execution_count": 69
        }
      ]
    },
    {
      "cell_type": "code",
      "source": [
        "model_pretrained.evaluate(test_ds)"
      ],
      "metadata": {
        "colab": {
          "base_uri": "https://localhost:8080/"
        },
        "id": "Q8RgqRkIgXmR",
        "outputId": "5f939b52-994b-45cd-e77b-f87e68f692ad"
      },
      "execution_count": null,
      "outputs": [
        {
          "output_type": "stream",
          "name": "stdout",
          "text": [
            "133/133 [==============================] - 9s 59ms/step - loss: 0.1875 - accuracy: 0.9293\n"
          ]
        },
        {
          "output_type": "execute_result",
          "data": {
            "text/plain": [
              "[0.1874774545431137, 0.929347813129425]"
            ]
          },
          "metadata": {},
          "execution_count": 70
        }
      ]
    },
    {
      "cell_type": "markdown",
      "source": [
        "Not bad. Almost as good as pretrained. 92.7 vs 92.9"
      ],
      "metadata": {
        "id": "-8kMgj3Fjek2"
      }
    },
    {
      "cell_type": "code",
      "source": [],
      "metadata": {
        "id": "BRgaJybqjin7"
      },
      "execution_count": null,
      "outputs": []
    }
  ]
}